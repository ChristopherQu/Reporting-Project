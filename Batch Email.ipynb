{
 "cells": [
  {
   "cell_type": "code",
   "execution_count": 1,
   "metadata": {},
   "outputs": [],
   "source": [
    "import re\n",
    "import os\n",
    "import pandas as pd\n",
    "import win32com.client as win32"
   ]
  },
  {
   "cell_type": "code",
   "execution_count": 11,
   "metadata": {},
   "outputs": [],
   "source": [
    "emailList = pd.read_excel(r'C:\\Users\\Huijie Qu\\OneDrive - Dealer Owned Warranty Company\\Desktop\\Dealer Email Book.xlsx')\n",
    "emailList['DealerName'] = emailList['DealerName'].astype(str)\n",
    "dealerList = list(emailList['DealerName'])\n",
    "\n",
    "fileList = []\n",
    "masterPath = r'C:\\Users\\Huijie Qu\\Downloads\\PDF'\n",
    "for roots, dirs, files in os.walk(masterPath):\n",
    "    for f in files:\n",
    "        fileList.append(str(f))"
   ]
  },
  {
   "cell_type": "code",
   "execution_count": 13,
   "metadata": {},
   "outputs": [],
   "source": [
    "for dealer in dealerList:\n",
    "    emailAddress = emailList[emailList['DealerName'] == dealer]['Email']\n",
    "    ccAddress = emailList[emailList['DealerName'] == dealer]['CC']\n",
    "    outlook = win32.Dispatch('outlook.application')\n",
    "    mail = outlook.CreateItem(0)\n",
    "    mail.To = emailAddress.values[0]\n",
    "    try:\n",
    "        mail.CC = ccAddress.values[0]\n",
    "    except:\n",
    "        pass\n",
    "    mail.Subject = 'September ' + dealer + ' Cession Report'\n",
    "    mail.Body = 'Hi all,\\n\\nPlease see attached for September ' + dealer + ' Cession Statement.\\n\\nPlease let me know if you have any questions or concerns.'\n",
    "    \n",
    "    attachmentPath = ''\n",
    "    for i in fileList:\n",
    "        if re.search(dealer, i, re.IGNORECASE):\n",
    "            attachmentPath = masterPath + '\\\\' + i\n",
    "    if attachmentPath == '':\n",
    "        continue\n",
    "    else:\n",
    "        attachment = attachmentPath\n",
    "        mail.Attachments.Add(attachment)\n",
    "        mail.Send()\n",
    "#     print(mail)\n",
    "#     mail.Send()"
   ]
  }
 ],
 "metadata": {
  "kernelspec": {
   "display_name": "Python 3",
   "language": "python",
   "name": "python3"
  },
  "language_info": {
   "codemirror_mode": {
    "name": "ipython",
    "version": 3
   },
   "file_extension": ".py",
   "mimetype": "text/x-python",
   "name": "python",
   "nbconvert_exporter": "python",
   "pygments_lexer": "ipython3",
   "version": "3.8.5"
  }
 },
 "nbformat": 4,
 "nbformat_minor": 4
}
